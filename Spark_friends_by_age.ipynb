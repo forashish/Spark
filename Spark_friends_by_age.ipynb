{
  "nbformat": 4,
  "nbformat_minor": 0,
  "metadata": {
    "colab": {
      "name": "Spark_friends_by_age.ipynb",
      "provenance": [],
      "authorship_tag": "ABX9TyPVMI9a8u6kA8wM3SaoxaR1",
      "include_colab_link": true
    },
    "kernelspec": {
      "name": "python3",
      "display_name": "Python 3"
    }
  },
  "cells": [
    {
      "cell_type": "markdown",
      "metadata": {
        "id": "view-in-github",
        "colab_type": "text"
      },
      "source": [
        "<a href=\"https://colab.research.google.com/github/forashish/Spark/blob/master/Spark_friends_by_age.ipynb\" target=\"_parent\"><img src=\"https://colab.research.google.com/assets/colab-badge.svg\" alt=\"Open In Colab\"/></a>"
      ]
    },
    {
      "cell_type": "code",
      "metadata": {
        "id": "UK2xhusiTc2S",
        "colab_type": "code",
        "colab": {}
      },
      "source": [
        "!apt-get install openjdk-8-jdk-headless -qq > /dev/null\n",
        "!wget -q https://www-us.apache.org/dist/spark/spark-3.0.0-preview2/spark-3.0.0-preview2-bin-hadoop2.7.tgz\n",
        "!tar xf spark-3.0.0-preview2-bin-hadoop2.7.tgz\n",
        "!pip install -q findspark\n",
        "import os\n",
        "os.environ[\"JAVA_HOME\"] = \"/usr/lib/jvm/java-8-openjdk-amd64\"\n",
        "os.environ[\"SPARK_HOME\"] = \"/content/spark-3.0.0-preview2-bin-hadoop2.7\"\n",
        "import findspark\n",
        "findspark.init()"
      ],
      "execution_count": 0,
      "outputs": []
    },
    {
      "cell_type": "code",
      "metadata": {
        "id": "Ns9qRMiR17H7",
        "colab_type": "code",
        "colab": {
          "resources": {
            "http://localhost:8080/nbextensions/google.colab/files.js": {
              "data": "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",
              "ok": true,
              "headers": [
                [
                  "content-type",
                  "application/javascript"
                ]
              ],
              "status": 200,
              "status_text": ""
            }
          },
          "base_uri": "https://localhost:8080/",
          "height": 113
        },
        "outputId": "5bf9506c-50d3-4ff3-be8a-ab016b9ab263"
      },
      "source": [
        "from google.colab import files\n",
        "files.upload()"
      ],
      "execution_count": 7,
      "outputs": [
        {
          "output_type": "display_data",
          "data": {
            "text/html": [
              "\n",
              "     <input type=\"file\" id=\"files-03a4c824-01b2-46a7-9fa9-8f4e50597fda\" name=\"files[]\" multiple disabled />\n",
              "     <output id=\"result-03a4c824-01b2-46a7-9fa9-8f4e50597fda\">\n",
              "      Upload widget is only available when the cell has been executed in the\n",
              "      current browser session. Please rerun this cell to enable.\n",
              "      </output>\n",
              "      <script src=\"/nbextensions/google.colab/files.js\"></script> "
            ],
            "text/plain": [
              "<IPython.core.display.HTML object>"
            ]
          },
          "metadata": {
            "tags": []
          }
        },
        {
          "output_type": "stream",
          "text": [
            "Saving fakefriends.csv to fakefriends.csv\n"
          ],
          "name": "stdout"
        },
        {
          "output_type": "execute_result",
          "data": {
            "text/plain": [
              "{'fakefriends.csv': b'0,Will,33,385\\r\\n1,Jean-Luc,26,2\\r\\n2,Hugh,55,221\\r\\n3,Deanna,40,465\\r\\n4,Quark,68,21\\r\\n5,Weyoun,59,318\\r\\n6,Gowron,37,220\\r\\n7,Will,54,307\\r\\n8,Jadzia,38,380\\r\\n9,Hugh,27,181\\r\\n10,Odo,53,191\\r\\n11,Ben,57,372\\r\\n12,Keiko,54,253\\r\\n13,Jean-Luc,56,444\\r\\n14,Hugh,43,49\\r\\n15,Rom,36,49\\r\\n16,Weyoun,22,323\\r\\n17,Odo,35,13\\r\\n18,Jean-Luc,45,455\\r\\n19,Geordi,60,246\\r\\n20,Odo,67,220\\r\\n21,Miles,19,268\\r\\n22,Quark,30,72\\r\\n23,Keiko,51,271\\r\\n24,Julian,25,1\\r\\n25,Ben,21,445\\r\\n26,Julian,22,100\\r\\n27,Leeta,42,363\\r\\n28,Martok,49,476\\r\\n29,Nog,48,364\\r\\n30,Keiko,50,175\\r\\n31,Miles,39,161\\r\\n32,Nog,26,281\\r\\n33,Dukat,53,197\\r\\n34,Jean-Luc,43,249\\r\\n35,Beverly,27,305\\r\\n36,Kasidy,32,81\\r\\n37,Geordi,58,21\\r\\n38,Deanna,64,65\\r\\n39,Morn,31,192\\r\\n40,Odo,52,413\\r\\n41,Hugh,67,167\\r\\n42,Brunt,54,75\\r\\n43,Guinan,58,345\\r\\n44,Nerys,35,244\\r\\n45,Dukat,52,77\\r\\n46,Morn,25,96\\r\\n47,Brunt,24,49\\r\\n48,Nog,20,1\\r\\n49,Ezri,40,254\\r\\n50,Quark,51,283\\r\\n51,Lwaxana,36,212\\r\\n52,Beverly,19,269\\r\\n53,Geordi,62,31\\r\\n54,Brunt,19,5\\r\\n55,Keiko,41,278\\r\\n56,Gowron,44,194\\r\\n57,Odo,57,294\\r\\n58,Hugh,59,158\\r\\n59,Morn,59,284\\r\\n60,Geordi,20,100\\r\\n61,Kasidy,62,442\\r\\n62,Keiko,69,9\\r\\n63,Jean-Luc,58,54\\r\\n64,Elim,31,15\\r\\n65,Guinan,52,169\\r\\n66,Geordi,21,477\\r\\n67,Jadzia,48,135\\r\\n68,Guinan,33,74\\r\\n69,Jean-Luc,30,204\\r\\n70,Brunt,52,393\\r\\n71,Geordi,45,184\\r\\n72,Kasidy,22,179\\r\\n73,Brunt,20,384\\r\\n74,Leeta,65,208\\r\\n75,Morn,40,459\\r\\n76,Will,62,201\\r\\n77,Weyoun,40,407\\r\\n78,Data,61,337\\r\\n79,Leeta,58,348\\r\\n80,Dukat,67,445\\r\\n81,Jadzia,54,440\\r\\n82,Hugh,57,465\\r\\n83,Geordi,32,308\\r\\n84,Ben,28,311\\r\\n85,Quark,66,383\\r\\n86,Hugh,55,257\\r\\n87,Ezri,31,481\\r\\n88,Ben,66,188\\r\\n89,Worf,24,492\\r\\n90,Kasidy,33,471\\r\\n91,Rom,46,88\\r\\n92,Gowron,54,7\\r\\n93,Elim,46,63\\r\\n94,Morn,62,133\\r\\n95,Odo,29,173\\r\\n96,Ezri,25,233\\r\\n97,Nerys,69,361\\r\\n98,Will,44,178\\r\\n99,Keiko,69,491\\r\\n100,Jean-Luc,61,460\\r\\n101,Morn,67,123\\r\\n102,Dukat,40,18\\r\\n103,Ezri,61,2\\r\\n104,Dukat,32,142\\r\\n105,Morn,50,417\\r\\n106,Beverly,18,499\\r\\n107,Will,64,419\\r\\n108,Leeta,25,274\\r\\n109,Quark,53,417\\r\\n110,Nog,64,137\\r\\n111,Nerys,37,46\\r\\n112,Morn,25,13\\r\\n113,Quark,41,244\\r\\n114,Worf,33,275\\r\\n115,Dukat,18,397\\r\\n116,Ben,69,75\\r\\n117,Rom,52,487\\r\\n118,Ben,28,304\\r\\n119,Worf,29,344\\r\\n120,Jean-Luc,68,264\\r\\n121,Deanna,35,355\\r\\n122,Data,45,400\\r\\n123,Jadzia,45,439\\r\\n124,Data,47,429\\r\\n125,Rom,66,284\\r\\n126,Brunt,26,84\\r\\n127,Miles,40,284\\r\\n128,Julian,34,221\\r\\n129,Kasidy,45,252\\r\\n130,Gowron,67,350\\r\\n131,Hugh,65,309\\r\\n132,Odo,46,462\\r\\n133,Quark,19,265\\r\\n134,Ben,45,340\\r\\n135,Rom,42,427\\r\\n136,Will,19,335\\r\\n137,Martok,28,32\\r\\n138,Dukat,32,384\\r\\n139,Nog,36,193\\r\\n140,Elim,64,234\\r\\n141,Miles,36,424\\r\\n142,Guinan,59,335\\r\\n143,Data,60,124\\r\\n144,Miles,22,93\\r\\n145,Leeta,45,470\\r\\n146,Nerys,58,174\\r\\n147,Quark,61,373\\r\\n148,Nerys,39,248\\r\\n149,Beverly,49,340\\r\\n150,Nerys,55,313\\r\\n151,Keiko,54,441\\r\\n152,Kasidy,54,235\\r\\n153,Morn,63,342\\r\\n154,Geordi,40,389\\r\\n155,Beverly,50,126\\r\\n156,Deanna,44,360\\r\\n157,Dukat,34,319\\r\\n158,Odo,31,340\\r\\n159,Kasidy,67,438\\r\\n160,Beverly,58,112\\r\\n161,Odo,39,207\\r\\n162,Ezri,59,14\\r\\n163,Nerys,67,204\\r\\n164,Will,31,172\\r\\n165,Leeta,26,282\\r\\n166,Lwaxana,25,10\\r\\n167,Quark,48,57\\r\\n168,Martok,68,112\\r\\n169,Beverly,53,92\\r\\n170,Jean-Luc,68,490\\r\\n171,Weyoun,29,126\\r\\n172,Kasidy,55,204\\r\\n173,Leeta,23,129\\r\\n174,Deanna,47,87\\r\\n175,Will,38,459\\r\\n176,Worf,55,474\\r\\n177,Brunt,67,316\\r\\n178,Kasidy,26,381\\r\\n179,Elim,37,426\\r\\n180,Kasidy,30,108\\r\\n181,Rom,43,404\\r\\n182,Weyoun,26,145\\r\\n183,Ben,47,488\\r\\n184,Julian,44,84\\r\\n185,Weyoun,48,287\\r\\n186,Miles,31,109\\r\\n187,Nerys,47,225\\r\\n188,Keiko,54,369\\r\\n189,Quark,62,23\\r\\n190,Geordi,60,294\\r\\n191,Nog,40,349\\r\\n192,Jadzia,45,497\\r\\n193,Nerys,60,125\\r\\n194,Kasidy,38,2\\r\\n195,Ben,30,376\\r\\n196,Data,38,173\\r\\n197,Leeta,38,76\\r\\n198,Brunt,48,381\\r\\n199,Hugh,38,180\\r\\n200,Kasidy,21,472\\r\\n201,Ezri,23,174\\r\\n202,Lwaxana,63,469\\r\\n203,Ezri,46,125\\r\\n204,Deanna,64,164\\r\\n205,Morn,69,236\\r\\n206,Will,21,491\\r\\n207,Lwaxana,41,206\\r\\n208,Nog,37,271\\r\\n209,Brunt,27,174\\r\\n210,Data,33,245\\r\\n211,Ben,61,73\\r\\n212,Geordi,55,284\\r\\n213,Worf,28,312\\r\\n214,Miles,32,182\\r\\n215,Will,22,6\\r\\n216,Brunt,34,116\\r\\n217,Keiko,29,260\\r\\n218,Gowron,66,350\\r\\n219,Lwaxana,26,345\\r\\n220,Jean-Luc,41,394\\r\\n221,Dukat,27,150\\r\\n222,Rom,34,346\\r\\n223,Odo,40,406\\r\\n224,Keiko,44,277\\r\\n225,Elim,19,106\\r\\n226,Lwaxana,37,207\\r\\n227,Ezri,40,198\\r\\n228,Martok,26,293\\r\\n229,Gowron,24,150\\r\\n230,Beverly,54,397\\r\\n231,Ezri,59,42\\r\\n232,Worf,68,481\\r\\n233,Gowron,67,70\\r\\n234,Deanna,49,22\\r\\n235,Elim,57,8\\r\\n236,Brunt,62,442\\r\\n237,Nerys,61,469\\r\\n238,Deanna,25,305\\r\\n239,Nog,48,345\\r\\n240,Deanna,46,154\\r\\n241,Quark,45,332\\r\\n242,Data,25,101\\r\\n243,Martok,61,68\\r\\n244,Dukat,21,471\\r\\n245,Jean-Luc,28,174\\r\\n246,Leeta,41,260\\r\\n247,Ezri,52,338\\r\\n248,Dukat,21,138\\r\\n249,Nerys,66,41\\r\\n250,Hugh,36,342\\r\\n251,Rom,55,57\\r\\n252,Will,36,174\\r\\n253,Leeta,69,116\\r\\n254,Ezri,67,79\\r\\n255,Deanna,60,324\\r\\n256,Worf,32,412\\r\\n257,Data,51,161\\r\\n258,Worf,68,217\\r\\n259,Kasidy,29,11\\r\\n260,Brunt,38,96\\r\\n261,Jadzia,40,172\\r\\n262,Will,51,334\\r\\n263,Martok,40,33\\r\\n264,Julian,29,228\\r\\n265,Gowron,27,471\\r\\n266,Jean-Luc,66,496\\r\\n267,Dukat,49,106\\r\\n268,Ezri,26,298\\r\\n269,Beverly,55,289\\r\\n270,Data,44,353\\r\\n271,Morn,25,446\\r\\n272,Quark,29,367\\r\\n273,Data,51,493\\r\\n274,Julian,64,244\\r\\n275,Will,47,13\\r\\n276,Dukat,54,462\\r\\n277,Hugh,46,300\\r\\n278,Data,44,499\\r\\n279,Beverly,23,133\\r\\n280,Nerys,26,492\\r\\n281,Worf,21,89\\r\\n282,Geordi,32,404\\r\\n283,Dukat,65,443\\r\\n284,Nog,26,269\\r\\n285,Data,43,101\\r\\n286,Lwaxana,30,384\\r\\n287,Beverly,64,396\\r\\n288,Hugh,56,354\\r\\n289,Ezri,30,221\\r\\n290,Beverly,62,290\\r\\n291,Dukat,23,373\\r\\n292,Nog,63,380\\r\\n293,Deanna,23,65\\r\\n294,Leeta,38,410\\r\\n295,Nerys,40,56\\r\\n296,Data,38,454\\r\\n297,Ben,45,395\\r\\n298,Guinan,57,207\\r\\n299,Rom,57,311\\r\\n300,Beverly,49,147\\r\\n301,Weyoun,28,108\\r\\n302,Beverly,37,263\\r\\n303,Deanna,46,319\\r\\n304,Will,19,404\\r\\n305,Quark,29,182\\r\\n306,Beverly,23,323\\r\\n307,Keiko,41,340\\r\\n308,Morn,45,59\\r\\n309,Geordi,67,153\\r\\n310,Odo,68,189\\r\\n311,Martok,43,48\\r\\n312,Jadzia,61,421\\r\\n313,Dukat,59,169\\r\\n314,Geordi,36,168\\r\\n315,Weyoun,25,208\\r\\n316,Hugh,64,391\\r\\n317,Guinan,59,439\\r\\n318,Deanna,35,251\\r\\n319,Leeta,30,476\\r\\n320,Worf,62,450\\r\\n321,Data,44,61\\r\\n322,Rom,58,92\\r\\n323,Nog,29,236\\r\\n324,Miles,56,343\\r\\n325,Keiko,51,492\\r\\n326,Beverly,46,407\\r\\n327,Julian,20,63\\r\\n328,Deanna,62,41\\r\\n329,Dukat,67,35\\r\\n330,Ezri,33,356\\r\\n331,Martok,30,17\\r\\n332,Julian,55,362\\r\\n333,Ben,29,207\\r\\n334,Leeta,40,7\\r\\n335,Odo,27,337\\r\\n336,Gowron,47,4\\r\\n337,Miles,58,10\\r\\n338,Will,28,180\\r\\n339,Morn,66,305\\r\\n340,Nerys,57,275\\r\\n341,Data,18,326\\r\\n342,Guinan,46,151\\r\\n343,Odo,26,254\\r\\n344,Data,30,487\\r\\n345,Ezri,31,394\\r\\n346,Hugh,29,329\\r\\n347,Geordi,32,24\\r\\n348,Weyoun,33,460\\r\\n349,Kasidy,20,277\\r\\n350,Nog,55,464\\r\\n351,Keiko,54,72\\r\\n352,Deanna,27,53\\r\\n353,Julian,64,499\\r\\n354,Kasidy,69,15\\r\\n355,Keiko,46,352\\r\\n356,Weyoun,67,149\\r\\n357,Brunt,26,7\\r\\n358,Will,52,276\\r\\n359,Nog,54,442\\r\\n360,Nerys,39,68\\r\\n361,Worf,68,206\\r\\n362,Ezri,39,120\\r\\n363,Dukat,41,397\\r\\n364,Lwaxana,54,115\\r\\n365,Brunt,65,430\\r\\n366,Keiko,19,119\\r\\n367,Data,39,106\\r\\n368,Elim,26,383\\r\\n369,Quark,48,266\\r\\n370,Jadzia,53,86\\r\\n371,Guinan,31,435\\r\\n372,Brunt,62,273\\r\\n373,Quark,19,272\\r\\n374,Nog,68,293\\r\\n375,Hugh,66,201\\r\\n376,Gowron,23,392\\r\\n377,Beverly,18,418\\r\\n378,Guinan,47,97\\r\\n379,Data,60,304\\r\\n380,Brunt,35,65\\r\\n381,Nog,38,95\\r\\n382,Worf,66,240\\r\\n383,Data,69,148\\r\\n384,Martok,67,355\\r\\n385,Beverly,57,436\\r\\n386,Data,35,428\\r\\n387,Will,43,335\\r\\n388,Nog,30,184\\r\\n389,Weyoun,38,38\\r\\n390,Martok,22,266\\r\\n391,Ben,64,309\\r\\n392,Data,64,343\\r\\n393,Quark,50,436\\r\\n394,Keiko,23,230\\r\\n395,Jean-Luc,56,15\\r\\n396,Keiko,67,38\\r\\n397,Quark,69,470\\r\\n398,Lwaxana,26,124\\r\\n399,Beverly,24,401\\r\\n400,Data,29,128\\r\\n401,Jean-Luc,42,467\\r\\n402,Hugh,58,98\\r\\n403,Weyoun,21,224\\r\\n404,Kasidy,18,24\\r\\n405,Nog,56,371\\r\\n406,Ben,57,121\\r\\n407,Miles,36,68\\r\\n408,Dukat,62,496\\r\\n409,Nog,19,267\\r\\n410,Odo,35,299\\r\\n411,Lwaxana,58,22\\r\\n412,Jadzia,53,451\\r\\n413,Hugh,45,147\\r\\n414,Martok,56,313\\r\\n415,Quark,30,65\\r\\n416,Nerys,33,294\\r\\n417,Julian,37,106\\r\\n418,Guinan,32,212\\r\\n419,Kasidy,55,176\\r\\n420,Jadzia,26,391\\r\\n421,Will,40,261\\r\\n422,Ben,67,292\\r\\n423,Will,44,388\\r\\n424,Keiko,55,470\\r\\n425,Quark,33,243\\r\\n426,Worf,24,77\\r\\n427,Brunt,28,258\\r\\n428,Lwaxana,68,423\\r\\n429,Jean-Luc,63,345\\r\\n430,Geordi,36,493\\r\\n431,Quark,36,343\\r\\n432,Brunt,45,54\\r\\n433,Ezri,38,203\\r\\n434,Deanna,57,289\\r\\n435,Guinan,42,275\\r\\n436,Geordi,57,229\\r\\n437,Morn,59,221\\r\\n438,Nog,42,95\\r\\n439,Data,18,417\\r\\n440,Elim,48,394\\r\\n441,Jadzia,38,143\\r\\n442,Nog,46,105\\r\\n443,Geordi,64,175\\r\\n444,Keiko,18,472\\r\\n445,Guinan,40,286\\r\\n446,Quark,32,41\\r\\n447,Julian,38,34\\r\\n448,Nerys,48,439\\r\\n449,Data,52,419\\r\\n450,Weyoun,37,234\\r\\n451,Martok,28,34\\r\\n452,Ezri,58,6\\r\\n453,Julian,44,337\\r\\n454,Weyoun,52,456\\r\\n455,Elim,33,463\\r\\n456,Ezri,37,471\\r\\n457,Worf,51,81\\r\\n458,Elim,44,335\\r\\n459,Geordi,26,84\\r\\n460,Hugh,47,400\\r\\n461,Geordi,41,236\\r\\n462,Nerys,23,287\\r\\n463,Keiko,40,220\\r\\n464,Beverly,25,485\\r\\n465,Morn,53,126\\r\\n466,Brunt,33,228\\r\\n467,Weyoun,42,194\\r\\n468,Ezri,46,227\\r\\n469,Brunt,55,271\\r\\n470,Deanna,38,160\\r\\n471,Brunt,52,273\\r\\n472,Nog,27,154\\r\\n473,Morn,35,38\\r\\n474,Keiko,34,48\\r\\n475,Ben,52,446\\r\\n476,Jean-Luc,28,378\\r\\n477,Gowron,50,119\\r\\n478,Dukat,41,62\\r\\n479,Kasidy,44,320\\r\\n480,Geordi,43,428\\r\\n481,Elim,32,97\\r\\n482,Ben,48,146\\r\\n483,Hugh,57,99\\r\\n484,Leeta,22,478\\r\\n485,Rom,47,356\\r\\n486,Elim,49,17\\r\\n487,Brunt,69,431\\r\\n488,Nog,61,103\\r\\n489,Odo,33,410\\r\\n490,Nerys,65,101\\r\\n491,Rom,60,2\\r\\n492,Dukat,19,36\\r\\n493,Hugh,23,357\\r\\n494,Kasidy,18,194\\r\\n495,Data,46,155\\r\\n496,Gowron,39,275\\r\\n497,Lwaxana,34,423\\r\\n498,Jadzia,62,36\\r\\n499,Leeta,62,12\\r\\n'}"
            ]
          },
          "metadata": {
            "tags": []
          },
          "execution_count": 7
        }
      ]
    }
  ]
}