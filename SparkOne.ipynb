{
  "nbformat": 4,
  "nbformat_minor": 0,
  "metadata": {
    "colab": {
      "name": "SparkOne.ipynb",
      "provenance": [],
      "collapsed_sections": [],
      "authorship_tag": "ABX9TyOoHXBELlQ/7U61Ywa+1qR8",
      "include_colab_link": true
    },
    "kernelspec": {
      "name": "python3",
      "display_name": "Python 3"
    }
  },
  "cells": [
    {
      "cell_type": "markdown",
      "metadata": {
        "id": "view-in-github",
        "colab_type": "text"
      },
      "source": [
        "<a href=\"https://colab.research.google.com/github/forashish/Spark/blob/master/SparkOne.ipynb\" target=\"_parent\"><img src=\"https://colab.research.google.com/assets/colab-badge.svg\" alt=\"Open In Colab\"/></a>"
      ]
    },
    {
      "cell_type": "code",
      "metadata": {
        "id": "LT6SG_n2x6yc",
        "colab_type": "code",
        "colab": {}
      },
      "source": [
        "!apt-get install openjdk-8-jdk-headless -qq > /dev/null\n",
        "!wget -q https://www-us.apache.org/dist/spark/spark-3.0.0-preview2/spark-3.0.0-preview2-bin-hadoop2.7.tgz\n",
        "!tar xf spark-3.0.0-preview2-bin-hadoop2.7.tgz\n",
        "!pip install -q findspark\n",
        "import os\n",
        "os.environ[\"JAVA_HOME\"] = \"/usr/lib/jvm/java-8-openjdk-amd64\"\n",
        "os.environ[\"SPARK_HOME\"] = \"/content/spark-3.0.0-preview2-bin-hadoop2.7\"\n",
        "import findspark\n",
        "findspark.init()"
      ],
      "execution_count": 0,
      "outputs": []
    },
    {
      "cell_type": "code",
      "metadata": {
        "id": "n0cZuWum6q-z",
        "colab_type": "code",
        "colab": {
          "base_uri": "https://localhost:8080/",
          "height": 156
        },
        "outputId": "71a94d6d-75d5-4e6c-ae35-fcc660e08334"
      },
      "source": [
        "from pyspark.sql import SparkSession\n",
        "\n",
        "spark = SparkSession \\\n",
        "  .builder \\\n",
        "\t.appName(\"Python Spark create RDD example\") \\\n",
        "\t.config(\"spark.some.config.option\", \"some-value\") \\\n",
        "\t.getOrCreate()\n",
        "df = spark.sparkContext\\\n",
        "\t.parallelize([(1, 2, 3, 'a b c'),\n",
        "\t\t\t\t        (4, 5, 6, 'd e f'),\n",
        "\t\t\t\t        (7, 8, 9, 'g h i')])\\\n",
        "\t.toDF(['col1', 'col2', 'col3','col4'])\n",
        "\n",
        "df.show()"
      ],
      "execution_count": 6,
      "outputs": [
        {
          "output_type": "stream",
          "text": [
            "+----+----+----+-----+\n",
            "|col1|col2|col3| col4|\n",
            "+----+----+----+-----+\n",
            "|   1|   2|   3|a b c|\n",
            "|   4|   5|   6|d e f|\n",
            "|   7|   8|   9|g h i|\n",
            "+----+----+----+-----+\n",
            "\n"
          ],
          "name": "stdout"
        }
      ]
    },
    {
      "cell_type": "code",
      "metadata": {
        "id": "zUJFanVZUWEX",
        "colab_type": "code",
        "colab": {}
      },
      "source": [
        "from pyspark.sql import SparkSession\n",
        "from google.colab import files\n",
        "\n",
        "spark = SparkSession.builder \\\n",
        "                    .master('local[*]') \\\n",
        "                    .appName('Learning Spark') \\\n",
        "                    .getOrCreate()\n",
        "\n",
        "#files.upload()\n",
        "\n",
        "data = spark.read.csv('vgsales.csv',inferSchema=True, header=True)\n",
        "\n"
      ],
      "execution_count": 0,
      "outputs": []
    },
    {
      "cell_type": "code",
      "metadata": {
        "id": "X_AsEVK9oyiE",
        "colab_type": "code",
        "colab": {
          "base_uri": "https://localhost:8080/",
          "height": 35
        },
        "outputId": "53b660c0-d301-48a6-e82b-d4969d8acd85"
      },
      "source": [
        "data.count()"
      ],
      "execution_count": 11,
      "outputs": [
        {
          "output_type": "execute_result",
          "data": {
            "text/plain": [
              "16598"
            ]
          },
          "metadata": {
            "tags": []
          },
          "execution_count": 11
        }
      ]
    },
    {
      "cell_type": "code",
      "metadata": {
        "id": "t2BvPpKosbfI",
        "colab_type": "code",
        "colab": {
          "base_uri": "https://localhost:8080/",
          "height": 208
        },
        "outputId": "89fb6be0-0585-4882-dda8-f17186c07012"
      },
      "source": [
        "data.columns"
      ],
      "execution_count": 12,
      "outputs": [
        {
          "output_type": "execute_result",
          "data": {
            "text/plain": [
              "['Rank',\n",
              " 'Name',\n",
              " 'Platform',\n",
              " 'Year',\n",
              " 'Genre',\n",
              " 'Publisher',\n",
              " 'NA_Sales',\n",
              " 'EU_Sales',\n",
              " 'JP_Sales',\n",
              " 'Other_Sales',\n",
              " 'Global_Sales']"
            ]
          },
          "metadata": {
            "tags": []
          },
          "execution_count": 12
        }
      ]
    },
    {
      "cell_type": "code",
      "metadata": {
        "id": "u0j2mm-zshht",
        "colab_type": "code",
        "colab": {
          "base_uri": "https://localhost:8080/",
          "height": 35
        },
        "outputId": "9da3f67f-fa5d-4e63-804e-0a6986d3cd47"
      },
      "source": [
        "len(data.columns)"
      ],
      "execution_count": 13,
      "outputs": [
        {
          "output_type": "execute_result",
          "data": {
            "text/plain": [
              "11"
            ]
          },
          "metadata": {
            "tags": []
          },
          "execution_count": 13
        }
      ]
    },
    {
      "cell_type": "code",
      "metadata": {
        "id": "xqPylBhOqAcG",
        "colab_type": "code",
        "colab": {
          "base_uri": "https://localhost:8080/",
          "height": 228
        },
        "outputId": "0439407f-ec72-4a44-8785-fe0e0ff796bb"
      },
      "source": [
        "data.show(5)"
      ],
      "execution_count": 14,
      "outputs": [
        {
          "output_type": "stream",
          "text": [
            "+----+--------------------+--------+----+------------+---------+--------+--------+--------+-----------+------------+\n",
            "|Rank|                Name|Platform|Year|       Genre|Publisher|NA_Sales|EU_Sales|JP_Sales|Other_Sales|Global_Sales|\n",
            "+----+--------------------+--------+----+------------+---------+--------+--------+--------+-----------+------------+\n",
            "|   1|          Wii Sports|     Wii|2006|      Sports| Nintendo|   41.49|   29.02|    3.77|       8.46|       82.74|\n",
            "|   2|   Super Mario Bros.|     NES|1985|    Platform| Nintendo|   29.08|    3.58|    6.81|       0.77|       40.24|\n",
            "|   3|      Mario Kart Wii|     Wii|2008|      Racing| Nintendo|   15.85|   12.88|    3.79|       3.31|       35.82|\n",
            "|   4|   Wii Sports Resort|     Wii|2009|      Sports| Nintendo|   15.75|   11.01|    3.28|       2.96|        33.0|\n",
            "|   5|Pokemon Red/Pokem...|      GB|1996|Role-Playing| Nintendo|   11.27|    8.89|   10.22|        1.0|       31.37|\n",
            "+----+--------------------+--------+----+------------+---------+--------+--------+--------+-----------+------------+\n",
            "only showing top 5 rows\n",
            "\n"
          ],
          "name": "stdout"
        }
      ]
    },
    {
      "cell_type": "code",
      "metadata": {
        "id": "huFqrz-VszcB",
        "colab_type": "code",
        "colab": {
          "base_uri": "https://localhost:8080/",
          "height": 243
        },
        "outputId": "8178f420-f69e-47e0-c9b1-1b02146e7c95"
      },
      "source": [
        "data.printSchema()"
      ],
      "execution_count": 15,
      "outputs": [
        {
          "output_type": "stream",
          "text": [
            "root\n",
            " |-- Rank: integer (nullable = true)\n",
            " |-- Name: string (nullable = true)\n",
            " |-- Platform: string (nullable = true)\n",
            " |-- Year: string (nullable = true)\n",
            " |-- Genre: string (nullable = true)\n",
            " |-- Publisher: string (nullable = true)\n",
            " |-- NA_Sales: double (nullable = true)\n",
            " |-- EU_Sales: double (nullable = true)\n",
            " |-- JP_Sales: double (nullable = true)\n",
            " |-- Other_Sales: double (nullable = true)\n",
            " |-- Global_Sales: double (nullable = true)\n",
            "\n"
          ],
          "name": "stdout"
        }
      ]
    },
    {
      "cell_type": "code",
      "metadata": {
        "id": "ZsyBOBiataYf",
        "colab_type": "code",
        "colab": {
          "base_uri": "https://localhost:8080/",
          "height": 381
        },
        "outputId": "5bab930d-1b59-48f9-cab0-210bfdad21fb"
      },
      "source": [
        "data.select('Name', 'Platform', 'Year', 'Publisher') \\\n",
        "    .show(15, truncate = False)"
      ],
      "execution_count": 16,
      "outputs": [
        {
          "output_type": "stream",
          "text": [
            "+---------------------------+--------+----+---------+\n",
            "|Name                       |Platform|Year|Publisher|\n",
            "+---------------------------+--------+----+---------+\n",
            "|Wii Sports                 |Wii     |2006|Nintendo |\n",
            "|Super Mario Bros.          |NES     |1985|Nintendo |\n",
            "|Mario Kart Wii             |Wii     |2008|Nintendo |\n",
            "|Wii Sports Resort          |Wii     |2009|Nintendo |\n",
            "|Pokemon Red/Pokemon Blue   |GB      |1996|Nintendo |\n",
            "|Tetris                     |GB      |1989|Nintendo |\n",
            "|New Super Mario Bros.      |DS      |2006|Nintendo |\n",
            "|Wii Play                   |Wii     |2006|Nintendo |\n",
            "|New Super Mario Bros. Wii  |Wii     |2009|Nintendo |\n",
            "|Duck Hunt                  |NES     |1984|Nintendo |\n",
            "|Nintendogs                 |DS      |2005|Nintendo |\n",
            "|Mario Kart DS              |DS      |2005|Nintendo |\n",
            "|Pokemon Gold/Pokemon Silver|GB      |1999|Nintendo |\n",
            "|Wii Fit                    |Wii     |2007|Nintendo |\n",
            "|Wii Fit Plus               |Wii     |2009|Nintendo |\n",
            "+---------------------------+--------+----+---------+\n",
            "only showing top 15 rows\n",
            "\n"
          ],
          "name": "stdout"
        }
      ]
    }
  ]
}